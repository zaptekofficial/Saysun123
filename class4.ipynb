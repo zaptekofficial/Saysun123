{
 "cells": [
  {
   "cell_type": "markdown",
   "metadata": {},
   "source": [
    "\n"
   ]
  },
  {
   "cell_type": "markdown",
   "metadata": {},
   "source": [
    "\n"
   ]
  },
  {
   "cell_type": "markdown",
   "metadata": {},
   "source": [
    "# Nested If"
   ]
  },
  {
   "cell_type": "code",
   "execution_count": 4,
   "metadata": {},
   "outputs": [
    {
     "name": "stdout",
     "output_type": "stream",
     "text": [
      "Do ya have cnic yes\n",
      "he has valid cnic\n",
      "is your name in voter listyes\n",
      "you are registered \n",
      " you can cast vote\n"
     ]
    }
   ],
   "source": [
    "user_cnic= (input(\"Do ya have cnic \").lower())\n",
    "if user_cnic == 'yes':\n",
    "    print(\"he has valid cnic\")\n",
    "    voter_list = ((input(\"is your name in voter list\").lower()))\n",
    "    if voter_list == 'yes':\n",
    "        print(\"you are registered \\n you can cast vote\")\n",
    "    else:\n",
    "        print(\"you're not registerd\")\n",
    "else:\n",
    "    print(\"you cannot cast vote\")"
   ]
  },
  {
   "cell_type": "code",
   "execution_count": 6,
   "metadata": {},
   "outputs": [
    {
     "name": "stdout",
     "output_type": "stream",
     "text": [
      "kya aap k ghair ikhlaki tallukat hain?hn\n",
      "jahannum is waiting for ya\n"
     ]
    }
   ],
   "source": [
    "a= input(\"kya aap k ghair ikhlaki tallukat hain?\").lower()\n",
    "array = ['haan',\n",
    "'han',\n",
    "'hn']\n",
    "\n",
    "for i in array:\n",
    "    if a == i:\n",
    "        print(\"jahannum is waiting for ya\")\n",
    "        break\n",
    "    "
   ]
  },
  {
   "cell_type": "code",
   "execution_count": null,
   "metadata": {},
   "outputs": [],
   "source": [
    "print('yhid')"
   ]
  },
  {
   "cell_type": "code",
   "execution_count": 16,
   "metadata": {},
   "outputs": [
    {
     "name": "stdout",
     "output_type": "stream",
     "text": [
      "Enter a number11\n",
      "Enter second number089\n",
      "11 is greater than 089\n"
     ]
    }
   ],
   "source": [
    "num1 = int(input(\"Enter a number\"))\n",
    "num2 = int(input(\"Enter second number\"))\n",
    "\n",
    "if num1 > num2:\n",
    "    print(f\"{num1} is greater than {num2}\")\n",
    "elif num1 == num2:\n",
    "    print(f\"{num1} is equal to {num2}\")\n",
    "elif num2 > num1:\n",
    "    print(f\"{num2}is greater than {num1}\")\n",
    "\n",
    "    "
   ]
  },
  {
   "cell_type": "markdown",
   "metadata": {},
   "source": [
    "# and"
   ]
  },
  {
   "cell_type": "code",
   "execution_count": null,
   "metadata": {},
   "outputs": [],
   "source": []
  }
 ],
 "metadata": {
  "kernelspec": {
   "display_name": "Python 3",
   "language": "python",
   "name": "python3"
  },
  "language_info": {
   "codemirror_mode": {
    "name": "ipython",
    "version": 3
   },
   "file_extension": ".py",
   "mimetype": "text/x-python",
   "name": "python",
   "nbconvert_exporter": "python",
   "pygments_lexer": "ipython3",
   "version": "3.7.3"
  }
 },
 "nbformat": 4,
 "nbformat_minor": 2
}
